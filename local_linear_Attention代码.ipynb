{
  "nbformat": 4,
  "nbformat_minor": 0,
  "metadata": {
    "colab": {
      "provenance": [],
      "collapsed_sections": [],
      "mount_file_id": "1gw54qGa6WI3cW7rBMkQySDprBf1QQaIV",
      "authorship_tag": "ABX9TyNah/URku+YcBfyXyYw7lQg",
      "include_colab_link": true
    },
    "kernelspec": {
      "name": "python3",
      "display_name": "Python 3"
    },
    "language_info": {
      "name": "python"
    }
  },
  "cells": [
    {
      "cell_type": "markdown",
      "metadata": {
        "id": "view-in-github",
        "colab_type": "text"
      },
      "source": [
        "<a href=\"https://colab.research.google.com/github/wangbxj1234/xformerforpt/blob/main/local_linear_Attention%E4%BB%A3%E7%A0%81.ipynb\" target=\"_parent\"><img src=\"https://colab.research.google.com/assets/colab-badge.svg\" alt=\"Open In Colab\"/></a>"
      ]
    },
    {
      "cell_type": "code",
      "source": [
        "import torch\n",
        "x = torch.rand(3,2)\n",
        "print(x)\n",
        "x[0][0]"
      ],
      "metadata": {
        "colab": {
          "base_uri": "https://localhost:8080/"
        },
        "id": "BkBhox4bSJXd",
        "outputId": "9cd3e648-7f54-414f-c429-c30f4522845c"
      },
      "execution_count": 3,
      "outputs": [
        {
          "output_type": "stream",
          "name": "stdout",
          "text": [
            "tensor([[0.2503, 0.3117],\n",
            "        [0.6553, 0.7998],\n",
            "        [0.9133, 0.7686]])\n"
          ]
        },
        {
          "output_type": "execute_result",
          "data": {
            "text/plain": [
              "tensor(0.2503)"
            ]
          },
          "metadata": {},
          "execution_count": 3
        }
      ]
    },
    {
      "cell_type": "code",
      "source": [
        "K=x.sum(dim=1)\n",
        "K"
      ],
      "metadata": {
        "colab": {
          "base_uri": "https://localhost:8080/"
        },
        "id": "Q2LiTXCKDluS",
        "outputId": "72867532-eb26-4503-c46a-ecc1eaa487bb"
      },
      "execution_count": 12,
      "outputs": [
        {
          "output_type": "execute_result",
          "data": {
            "text/plain": [
              "tensor([0.5620, 1.4550, 1.6819])"
            ]
          },
          "metadata": {},
          "execution_count": 12
        }
      ]
    },
    {
      "cell_type": "code",
      "source": [
        "y=torch.ones(3)\n",
        "y[0]=2\n",
        "print(y)"
      ],
      "metadata": {
        "colab": {
          "base_uri": "https://localhost:8080/"
        },
        "id": "k05PilNaSYdw",
        "outputId": "b5c14b86-e6bf-4c5d-83f3-4788cd8dbee4"
      },
      "execution_count": 11,
      "outputs": [
        {
          "output_type": "stream",
          "name": "stdout",
          "text": [
            "tensor([2., 1., 1.])\n"
          ]
        }
      ]
    },
    {
      "cell_type": "code",
      "source": [
        "torch.einsum(\"l,l->l\", y,K)"
      ],
      "metadata": {
        "colab": {
          "base_uri": "https://localhost:8080/"
        },
        "id": "dBLsCBcxSe3A",
        "outputId": "fc933e71-b3f6-499a-c497-94dfd9a3cc1e"
      },
      "execution_count": 13,
      "outputs": [
        {
          "output_type": "execute_result",
          "data": {
            "text/plain": [
              "tensor([1.1239, 1.4550, 1.6819])"
            ]
          },
          "metadata": {},
          "execution_count": 13
        }
      ]
    },
    {
      "cell_type": "code",
      "source": [
        "import torch\n",
        "import torch.nn.functional as F\n",
        "import numpy as np\n",
        "\n",
        "from torch import Tensor\n",
        "from typing import Optional\n",
        "from torch import nn\n",
        "\n",
        "x = torch.rand(64,6)####n*c\n",
        "xyz = torch.rand(64,3) #n*3\n",
        "def square_distance(src, dst):\n",
        "    \"\"\"\n",
        "    Calculate Euclid distance between each two points.\n",
        "    src^T * dst = xn * xm + yn * ym + zn * zm；\n",
        "    sum(src^2, dim=-1) = xn*xn + yn*yn + zn*zn;\n",
        "    sum(dst^2, dim=-1) = xm*xm + ym*ym + zm*zm;\n",
        "    dist = (xn - xm)^2 + (yn - ym)^2 + (zn - zm)^2\n",
        "         = sum(src**2,dim=-1)+sum(dst**2,dim=-1)-2*src^T*dst\n",
        "    Input:\n",
        "        src: source points, [N, C]\n",
        "        dst: target points, [M, C]\n",
        "    Output:\n",
        "        dist: per-point square distance, [ N, M]\n",
        "    \"\"\"\n",
        "    return torch.sum((src[:, None] - dst[None,:]) ** 2, dim=-1)\n",
        "\n",
        "def index_points(points, idx):#从n个坐标中按照index提取s个坐标或者s*k个坐标，进行grouping\n",
        "    \"\"\"\n",
        "    Input:\n",
        "        points: input points data, [N, C]\n",
        "        idx: sample index data, [N, [K]]\n",
        "    Return:\n",
        "        new_points:, indexed points data, [N, [K], C] \n",
        "    \"\"\"\n",
        "    raw_size = idx.size()#这里是torch size 相当于 numpy的shape\n",
        "    idx = idx.reshape(-1) # N*K.\n",
        "    res = torch.gather(points, 0, idx[..., None].expand(-1, points.size(-1))) #先把idx的第2维复制到=C,再用gather按索引提取对应点出来。\n",
        "    return res.reshape(*raw_size, -1)#就是idx的shape（2维或者三维），再加上最后一维c，理论上这个-1也可以写成'points.size(-1)'吧。\n",
        "\n",
        "dists = square_distance(xyz, xyz)\n",
        "knn_idx = dists.argsort()[:, :16]  # n x k\n",
        "print(knn_idx.shape)\n",
        "index_points(x, knn_idx).shape   #n*k*c"
      ],
      "metadata": {
        "colab": {
          "base_uri": "https://localhost:8080/"
        },
        "id": "iMtEOE_hJNlU",
        "outputId": "821bc8fa-95d8-4d4f-9130-a622e05efe04"
      },
      "execution_count": 10,
      "outputs": [
        {
          "output_type": "stream",
          "name": "stdout",
          "text": [
            "torch.Size([64, 16])\n"
          ]
        },
        {
          "output_type": "execute_result",
          "data": {
            "text/plain": [
              "torch.Size([64, 16, 6])"
            ]
          },
          "metadata": {},
          "execution_count": 10
        }
      ]
    },
    {
      "cell_type": "code",
      "source": [
        "import torch\n",
        "import torch.nn.functional as F\n",
        "import numpy as np\n",
        "\n",
        "from torch import Tensor\n",
        "from typing import Optional\n",
        "from torch import nn\n",
        "def square_distance(src, dst):\n",
        "    \"\"\"\n",
        "    Calculate Euclid distance between each two points.\n",
        "    src^T * dst = xn * xm + yn * ym + zn * zm；\n",
        "    sum(src^2, dim=-1) = xn*xn + yn*yn + zn*zn;\n",
        "    sum(dst^2, dim=-1) = xm*xm + ym*ym + zm*zm;\n",
        "    dist = (xn - xm)^2 + (yn - ym)^2 + (zn - zm)^2\n",
        "         = sum(src**2,dim=-1)+sum(dst**2,dim=-1)-2*src^T*dst\n",
        "    Input:\n",
        "        src: source points, [N, C]\n",
        "        dst: target points, [M, C]\n",
        "    Output:\n",
        "        dist: per-point square distance, [ N, M]\n",
        "    \"\"\"\n",
        "    return torch.sum((src[:, None] - dst[None,:]) ** 2, dim=-1)\n",
        "\n",
        "def index_points(points, idx):#从n个坐标中按照index提取s个坐标或者s*k个坐标，进行grouping\n",
        "    \"\"\"\n",
        "    Input:\n",
        "        points: input points data, [N, C]\n",
        "        idx: sample index data, [N, [K]]\n",
        "    Return:\n",
        "        new_points:, indexed points data, [N, [K], C] \n",
        "    \"\"\"\n",
        "    raw_size = idx.size()#这里是torch size 相当于 numpy的shape\n",
        "    idx = idx.reshape(-1) # N*K.\n",
        "    res = torch.gather(points, 0, idx[..., None].expand(-1, points.size(-1))) #先把idx的第2维复制到=C,再用gather按索引提取对应点出来。\n",
        "    return res.reshape(*raw_size, -1)#就是idx的shape（2维或者三维），再加上最后一维c，理论上这个-1也可以写成'points.size(-1)'吧。\n",
        "\n",
        "\n",
        "\n",
        "\n",
        "class local_linear_Attention(nn.Module):\n",
        "    # flow attention in normal version\n",
        "    def __init__(self, in_planes,k):\n",
        "        super(local_linear_Attention, self).__init__()\n",
        "        self.n_heads =8\n",
        "        self.query_projection = nn.Linear(in_planes, in_planes)\n",
        "        self.key_projection = nn.Linear(in_planes, in_planes)\n",
        "        ####加入位置编码\n",
        "        #self.p_proj_q = nn.Sequential(nn.Linear(3, 3), nn.BatchNorm1d(3), nn.ReLU(inplace=True), nn.Linear(3, in_planes))\n",
        "        #self.p_proj_k = nn.Sequential(nn.Linear(3, 3), nn.BatchNorm1d(3), nn.ReLU(inplace=True), nn.Linear(3, in_planes))\n",
        "        ####\n",
        "        self.value_projection = nn.Linear(in_planes, in_planes)\n",
        "        self.out_projection = nn.Linear(in_planes, in_planes)\n",
        "        self.dropout = nn.Dropout(0.05)\n",
        "        self.eps = 1e-6\n",
        "        self.k = k\n",
        "\n",
        "    def kernel_method(self, x):\n",
        "        return torch.sigmoid(x)\n",
        "\n",
        "    def dot_product(self, q, k, v):\n",
        "        kv = torch.einsum(\"hld,hlm->hdm\", k, v)\n",
        "        qkv = torch.einsum(\"hld,hdm->hlm\", q, kv)\n",
        "        return qkv\n",
        "\n",
        "    def forward(self, pxo) -> torch.Tensor:\n",
        "        p, x, o = pxo   \n",
        "        PN=0;\n",
        "        x_sub=[]\n",
        "        p_sub=[]\n",
        "        out=[]\n",
        "        for offset in o:\n",
        "           x_s=x[PN:int(offset),:]\n",
        "           x_sub.append(x_s)\n",
        "           p_s=p[PN:int(offset),:]\n",
        "           p_sub.append(p_s)\n",
        "           tgt_len, embed_dim = x_s.size() ###(N,d) \n",
        "           #print(offset,tgt_len, embed_dim)\n",
        "           PN=int(offset)\n",
        "        ## input: (L or S) D; output: L D\n",
        "        ## Note: queries, keys, values are not projected yet\n",
        "        ## 1. Linear projection\n",
        "           L=tgt_len\n",
        "           S=tgt_len\n",
        "           ###\n",
        "           dists = square_distance(p_s, p_s)\n",
        "           knn_idx = dists.argsort()[:, :self.k]  # n x k\n",
        "           ###\n",
        "           Q = self.query_projection(x_s).view(L, self.n_heads, -1)\n",
        "           K = index_points(self.key_projection(x_s), knn_idx).view(S, self.k,self.n_heads, -1)\n",
        "           ####加入位置编码\n",
        "           #pe_q = self.p_proj_q(p_s).view(L, self.n_heads, -1)\n",
        "           #pe_k = self.p_proj_k(p_s).view(S, self.n_heads, -1)\n",
        "           #queries = queries+pe_q\n",
        "           #keys = keys+pe_k\n",
        "           ####\n",
        "           V = index_points(self.value_projection(x_s), knn_idx).view(S, self.k,self.n_heads, -1)\n",
        "\n",
        "           # 2. Non-negative projection\n",
        "           Q = self.kernel_method(Q)\n",
        "           K = self.kernel_method(K)\n",
        "\n",
        "           KV = torch.einsum(\"skhd,skhm->hmd\", K, V)\n",
        "\n",
        "           # Compute the normalizer\n",
        "           Z = 1/(torch.einsum(\"lhd,lhd->lh\", Q, K.sum(dim=1))+self.eps)\n",
        "\n",
        "           # Finally compute and return the new values\n",
        "           V = torch.einsum(\"lhd,hmd,lh->lhm\", Q, KV, Z)\n",
        "\n",
        "\n",
        "           output = V.reshape(L, -1)\n",
        "           output = self.out_projection(output)\n",
        "           output = self.dropout(output)\n",
        "\n",
        "           out.append(output)\n",
        "        #out=torch.IntTensor(out)\n",
        "        out=torch.cat(out,dim=0)\n",
        "\n",
        "        return out\n"
      ],
      "metadata": {
        "id": "fA2_I-FQOWh5"
      },
      "execution_count": 1,
      "outputs": []
    },
    {
      "cell_type": "code",
      "source": [
        "o=[ 838, 2088, 2317, 3567, 4541, 5561, 6427, 7077]\n",
        "o=torch.IntTensor(o)\n",
        "x = torch.rand(7077, 128)\n",
        "p = torch.rand(7077, 3)"
      ],
      "metadata": {
        "id": "E2qkYYyzju2I"
      },
      "execution_count": 2,
      "outputs": []
    },
    {
      "cell_type": "code",
      "source": [
        "planes=128\n",
        "transformer2 = local_linear_Attention(planes,k=16)\n",
        "right_res = transformer2([p, x, o])\n",
        "print(right_res.shape)"
      ],
      "metadata": {
        "colab": {
          "base_uri": "https://localhost:8080/"
        },
        "id": "qOEbKsEpfuMW",
        "outputId": "64df776b-8fd5-4fbd-8c23-2298a7d8df8a"
      },
      "execution_count": 3,
      "outputs": [
        {
          "output_type": "stream",
          "name": "stdout",
          "text": [
            "torch.Size([7077, 128])\n"
          ]
        }
      ]
    }
  ]
}