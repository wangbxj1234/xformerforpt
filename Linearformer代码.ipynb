{
  "nbformat": 4,
  "nbformat_minor": 0,
  "metadata": {
    "colab": {
      "provenance": [],
      "collapsed_sections": [],
      "mount_file_id": "1gw54qGa6WI3cW7rBMkQySDprBf1QQaIV",
      "authorship_tag": "ABX9TyOBsvWcYKEEq174nI9uTIV5",
      "include_colab_link": true
    },
    "kernelspec": {
      "name": "python3",
      "display_name": "Python 3"
    },
    "language_info": {
      "name": "python"
    }
  },
  "cells": [
    {
      "cell_type": "markdown",
      "metadata": {
        "id": "view-in-github",
        "colab_type": "text"
      },
      "source": [
        "<a href=\"https://colab.research.google.com/github/wangbxj1234/xformerforpt/blob/main/Linearformer%E4%BB%A3%E7%A0%81.ipynb\" target=\"_parent\"><img src=\"https://colab.research.google.com/assets/colab-badge.svg\" alt=\"Open In Colab\"/></a>"
      ]
    },
    {
      "cell_type": "code",
      "source": [
        "import torch\n",
        "import torch.nn.functional as F\n",
        "import numpy as np\n",
        "\n",
        "from torch import Tensor\n",
        "from typing import Optional\n",
        "from torch import nn\n",
        "\n",
        "\n",
        "class linear_Attention(nn.Module):\n",
        "    # flow attention in normal version\n",
        "    def __init__(self, in_planes):\n",
        "        super(linear_Attention, self).__init__()\n",
        "        self.n_heads =8\n",
        "        self.query_projection = nn.Linear(in_planes, in_planes)\n",
        "        self.key_projection = nn.Linear(in_planes, in_planes)\n",
        "        self.value_projection = nn.Linear(in_planes, in_planes)\n",
        "        self.out_projection = nn.Linear(in_planes, in_planes)\n",
        "        self.dropout = nn.Dropout(0.05)\n",
        "        self.eps = 1e-6\n",
        "\n",
        "    def kernel_method(self, x):\n",
        "        return torch.sigmoid(x)\n",
        "\n",
        "    def dot_product(self, q, k, v):\n",
        "        kv = torch.einsum(\"hld,hlm->hdm\", k, v)\n",
        "        qkv = torch.einsum(\"hld,hdm->hlm\", q, kv)\n",
        "        return qkv\n",
        "\n",
        "    def forward(self, pxo,k) -> torch.Tensor:\n",
        "        p, x, o = pxo   \n",
        "        PN=0;\n",
        "        x_sub=[]\n",
        "        p_sub=[]\n",
        "        out=[]\n",
        "        for offset in o:\n",
        "           x_s=x[PN:int(offset),:]\n",
        "           x_sub.append(x_s)\n",
        "           tgt_len, embed_dim = x_s.size() ###(N,d) \n",
        "           #print(offset,tgt_len, embed_dim)\n",
        "           PN=int(offset)\n",
        "        ## input: (L or S) D; output: L D\n",
        "        ## Note: queries, keys, values are not projected yet\n",
        "        ## 1. Linear projection\n",
        "           L=tgt_len\n",
        "           S=tgt_len\n",
        "           Q = self.query_projection(x_s).view(L, self.n_heads, -1)\n",
        "           K = self.key_projection(x_s).view(S, self.n_heads, -1)\n",
        "           V = self.value_projection(x_s).view(S, self.n_heads, -1)\n",
        "           #Q = queries.transpose(0, 1)\n",
        "           #K = keys.transpose(0, 1)\n",
        "           #V = values.transpose(0, 1)\n",
        "           # 2. Non-negative projection\n",
        "           Q = self.kernel_method(Q)\n",
        "           K = self.kernel_method(K)\n",
        "\n",
        "           KV = torch.einsum(\"shd,shm->hmd\", K, V)\n",
        "\n",
        "           # Compute the normalizer\n",
        "           Z = 1/(torch.einsum(\"lhd,hd->lh\", Q, K.sum(dim=0))+self.eps)\n",
        "\n",
        "           # Finally compute and return the new values\n",
        "           V = torch.einsum(\"lhd,hmd,lh->lhm\", Q, KV, Z)\n",
        "\n",
        "           output = V.reshape(L, -1)\n",
        "           output = self.out_projection(output)\n",
        "           output = self.dropout(output)\n",
        "\n",
        "           out.append(output)\n",
        "        #out=torch.IntTensor(out)\n",
        "        out=torch.cat(out,dim=0)\n",
        "\n",
        "        return out\n"
      ],
      "metadata": {
        "id": "fA2_I-FQOWh5"
      },
      "execution_count": 4,
      "outputs": []
    },
    {
      "cell_type": "code",
      "source": [
        "o=[ 838, 2088, 2317, 3567, 4541, 5561, 6427, 7077]\n",
        "o=torch.IntTensor(o)\n",
        "x = torch.rand(7077, 128)\n",
        "p = torch.rand(7077, 3)"
      ],
      "metadata": {
        "id": "E2qkYYyzju2I"
      },
      "execution_count": 5,
      "outputs": []
    },
    {
      "cell_type": "code",
      "source": [
        "planes=128\n",
        "transformer2 = linear_Attention(planes)\n",
        "right_res = transformer2([p, x, o],k=16)\n",
        "print(right_res.shape)"
      ],
      "metadata": {
        "colab": {
          "base_uri": "https://localhost:8080/"
        },
        "id": "qOEbKsEpfuMW",
        "outputId": "babc8d6c-bfde-4aed-9697-c651c24411b9"
      },
      "execution_count": 6,
      "outputs": [
        {
          "output_type": "stream",
          "name": "stdout",
          "text": [
            "torch.Size([7077, 128])\n"
          ]
        }
      ]
    }
  ]
}