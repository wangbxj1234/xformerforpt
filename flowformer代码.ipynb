{
  "nbformat": 4,
  "nbformat_minor": 0,
  "metadata": {
    "colab": {
      "name": "flowformer代码.ipynb",
      "provenance": [],
      "collapsed_sections": [],
      "mount_file_id": "1gw54qGa6WI3cW7rBMkQySDprBf1QQaIV",
      "authorship_tag": "ABX9TyOlKnUcIJ18NM6bK1iDQ1b1",
      "include_colab_link": true
    },
    "kernelspec": {
      "name": "python3",
      "display_name": "Python 3"
    },
    "language_info": {
      "name": "python"
    }
  },
  "cells": [
    {
      "cell_type": "markdown",
      "metadata": {
        "id": "view-in-github",
        "colab_type": "text"
      },
      "source": [
        "<a href=\"https://colab.research.google.com/github/wangbxj1234/xformerforpt/blob/main/flowformer%E4%BB%A3%E7%A0%81.ipynb\" target=\"_parent\"><img src=\"https://colab.research.google.com/assets/colab-badge.svg\" alt=\"Open In Colab\"/></a>"
      ]
    },
    {
      "cell_type": "code",
      "source": [
        "import torch\n",
        "import torch.nn.functional as F\n",
        "import numpy as np\n",
        "\n",
        "from torch import Tensor\n",
        "from typing import Optional\n",
        "from torch import nn\n",
        "\n",
        "\n",
        "class Flow_Attention(nn.Module):\n",
        "    # flow attention in normal version\n",
        "    def __init__(self, in_planes):\n",
        "        super(Flow_Attention, self).__init__()\n",
        "        self.n_heads =8\n",
        "        self.query_projection = nn.Linear(in_planes, in_planes)\n",
        "        self.key_projection = nn.Linear(in_planes, in_planes)\n",
        "        self.value_projection = nn.Linear(in_planes, in_planes)\n",
        "        self.out_projection = nn.Linear(in_planes, in_planes)\n",
        "        self.dropout = nn.Dropout(0.05)\n",
        "        self.eps = 1e-6\n",
        "\n",
        "    def kernel_method(self, x):\n",
        "        return torch.sigmoid(x)\n",
        "\n",
        "    def dot_product(self, q, k, v):\n",
        "        kv = torch.einsum(\"hld,hlm->hdm\", k, v)\n",
        "        qkv = torch.einsum(\"hld,hdm->hlm\", q, kv)\n",
        "        return qkv\n",
        "\n",
        "    def forward(self, pxo) -> torch.Tensor:\n",
        "        p, x, o = pxo   \n",
        "        PN=0;\n",
        "        x_sub=[]\n",
        "        p_sub=[]\n",
        "        out=[]\n",
        "        for offset in o:\n",
        "           x_s=x[PN:int(offset),:]\n",
        "           x_sub.append(x_s)\n",
        "           tgt_len, embed_dim = x_s.size() ###(N,d) \n",
        "           #print(offset,tgt_len, embed_dim)\n",
        "           PN=int(offset)\n",
        "        ## input: (L or S) D; output: L D\n",
        "        ## Note: queries, keys, values are not projected yet\n",
        "        ## 1. Linear projection\n",
        "           L=tgt_len\n",
        "           S=tgt_len\n",
        "           queries = self.query_projection(x_s).view(L, self.n_heads, -1)\n",
        "           keys = self.key_projection(x_s).view(S, self.n_heads, -1)\n",
        "           values = self.value_projection(x_s).view(S, self.n_heads, -1)\n",
        "           queries = queries.transpose(0, 1)\n",
        "           keys = keys.transpose(0, 1)\n",
        "           values = values.transpose(0, 1)\n",
        "           # 2. Non-negative projection\n",
        "           queries = self.kernel_method(queries)\n",
        "           keys = self.kernel_method(keys)\n",
        "           ## 3. Flow-Attention\n",
        "           # (1) Calculate incoming and outgoing flow\n",
        "           sink_incoming = 1.0 / (torch.einsum(\"hld,hd->hl\", queries + self.eps, keys.sum(dim=1) + self.eps))\n",
        "           source_outgoing = 1.0 / (torch.einsum(\"hld,hd->hl\", keys + self.eps, queries.sum(dim=1) + self.eps))\n",
        "           # (2) conservation refine for source and sink\n",
        "           conserved_sink = torch.einsum(\"hld,hd->hl\", queries + self.eps,\n",
        "                                      (keys * source_outgoing[:, :, None]).sum(dim=1) + self.eps)\n",
        "           conserved_source = torch.einsum(\"hld,hd->hl\", keys + self.eps,\n",
        "                                        (queries * sink_incoming[:, :, None]).sum(dim=1) + self.eps)\n",
        "           conserved_source = torch.clamp(conserved_source, min=-1.0, max=1.0)  # for stability\n",
        "           # (3) Competition & Allocation\n",
        "           sink_allocation = torch.sigmoid(conserved_sink * (float(queries.shape[1]) / float(keys.shape[1])))\n",
        "           source_competition = torch.softmax(conserved_source, dim=-1) * float(keys.shape[1])\n",
        "           # (4) dot product\n",
        "           output = (self.dot_product(queries * sink_incoming[:, :, None],  # for value normalization\n",
        "                              keys,\n",
        "                              values * source_competition[:, :, None])  # competition\n",
        "                * sink_allocation[:, :, None]).transpose(0, 1)  # allocation\n",
        "           ## (5) Final projection\n",
        "           output = output.reshape(L, -1)\n",
        "           output = self.out_projection(output)\n",
        "           output = self.dropout(output)\n",
        "\n",
        "           out.append(output)\n",
        "        #out=torch.IntTensor(out)\n",
        "        out=torch.cat(out,dim=0)\n",
        "\n",
        "        return out\n"
      ],
      "metadata": {
        "id": "fA2_I-FQOWh5"
      },
      "execution_count": null,
      "outputs": []
    },
    {
      "cell_type": "code",
      "source": [
        "o=[ 838, 2088, 2317, 3567, 4541, 5561, 6427, 7077]\n",
        "o=torch.IntTensor(o)\n",
        "x = torch.rand(7077, 128)\n",
        "p = torch.rand(7077, 3)"
      ],
      "metadata": {
        "id": "E2qkYYyzju2I"
      },
      "execution_count": null,
      "outputs": []
    },
    {
      "cell_type": "code",
      "source": [
        "planes=128\n",
        "transformer2 = Flow_Attention(planes)\n",
        "right_res = transformer2([p, x, o])\n",
        "print(right_res.shape)"
      ],
      "metadata": {
        "colab": {
          "base_uri": "https://localhost:8080/"
        },
        "id": "qOEbKsEpfuMW",
        "outputId": "181a8dfe-6354-4278-c0e9-9ae1bcdc9ab4"
      },
      "execution_count": null,
      "outputs": [
        {
          "output_type": "stream",
          "name": "stdout",
          "text": [
            "torch.Size([7077, 128])\n"
          ]
        }
      ]
    }
  ]
}