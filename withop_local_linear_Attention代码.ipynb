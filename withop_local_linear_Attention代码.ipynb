{
  "nbformat": 4,
  "nbformat_minor": 0,
  "metadata": {
    "colab": {
      "provenance": [],
      "collapsed_sections": [],
      "mount_file_id": "1gw54qGa6WI3cW7rBMkQySDprBf1QQaIV",
      "authorship_tag": "ABX9TyOvq6zfKSd6+vPHsfmtokZl",
      "include_colab_link": true
    },
    "kernelspec": {
      "name": "python3",
      "display_name": "Python 3"
    },
    "language_info": {
      "name": "python"
    }
  },
  "cells": [
    {
      "cell_type": "markdown",
      "metadata": {
        "id": "view-in-github",
        "colab_type": "text"
      },
      "source": [
        "<a href=\"https://colab.research.google.com/github/wangbxj1234/xformerforpt/blob/main/withop_local_linear_Attention%E4%BB%A3%E7%A0%81.ipynb\" target=\"_parent\"><img src=\"https://colab.research.google.com/assets/colab-badge.svg\" alt=\"Open In Colab\"/></a>"
      ]
    },
    {
      "cell_type": "code",
      "source": [
        "import torch\n",
        "import torch.nn.functional as F\n",
        "import numpy as np\n",
        "\n",
        "from torch import Tensor\n",
        "from typing import Optional\n",
        "from torch import nn\n",
        "def square_distance(src, dst):\n",
        "    \"\"\"\n",
        "    Calculate Euclid distance between each two points.\n",
        "    src^T * dst = xn * xm + yn * ym + zn * zm；\n",
        "    sum(src^2, dim=-1) = xn*xn + yn*yn + zn*zn;\n",
        "    sum(dst^2, dim=-1) = xm*xm + ym*ym + zm*zm;\n",
        "    dist = (xn - xm)^2 + (yn - ym)^2 + (zn - zm)^2\n",
        "         = sum(src**2,dim=-1)+sum(dst**2,dim=-1)-2*src^T*dst\n",
        "    Input:\n",
        "        src: source points, [N, C]\n",
        "        dst: target points, [M, C]\n",
        "    Output:\n",
        "        dist: per-point square distance, [ N, M]\n",
        "    \"\"\"\n",
        "    return torch.sum((src[:, None] - dst[None,:]) ** 2, dim=-1)\n",
        "\n",
        "def index_points(points, idx):#从n个坐标中按照index提取s个坐标或者s*k个坐标，进行grouping\n",
        "    \"\"\"\n",
        "    Input:\n",
        "        points: input points data, [N, C]\n",
        "        idx: sample index data, [N, [K]]\n",
        "    Return:\n",
        "        new_points:, indexed points data, [N, [K], C] \n",
        "    \"\"\"\n",
        "    raw_size = idx.size()#这里是torch size 相当于 numpy的shape\n",
        "    idx = idx.reshape(-1) # N*K.\n",
        "    res = torch.gather(points, 0, idx[..., None].expand(-1, points.size(-1))) #先把idx的第2维复制到=C,再用gather按索引提取对应点出来。\n",
        "    return res.reshape(*raw_size, -1)#就是idx的shape（2维或者三维），再加上最后一维c，理论上这个-1也可以写成'points.size(-1)'吧。\n",
        "\n",
        "\n",
        "\n",
        "\n",
        "class local_linear_Attention(nn.Module):\n",
        "    # flow attention in normal version\n",
        "    def __init__(self, in_planes,k):\n",
        "        super(local_linear_Attention, self).__init__()\n",
        "        self.n_heads =8\n",
        "        self.query_projection = nn.Linear(in_planes, in_planes)\n",
        "        self.key_projection = nn.Linear(in_planes, in_planes)\n",
        "        self.value_projection = nn.Linear(in_planes, in_planes)\n",
        "        self.out_projection = nn.Linear(in_planes, in_planes)\n",
        "        self.dropout = nn.Dropout(0.05)\n",
        "        self.eps = 1e-6\n",
        "        self.k = k\n",
        "\n",
        "    def kernel_method(self, x):\n",
        "        return torch.sigmoid(x)\n",
        "\n",
        "    def dot_product(self, q, k, v):\n",
        "        kv = torch.einsum(\"hld,hlm->hdm\", k, v)\n",
        "        qkv = torch.einsum(\"hld,hdm->hlm\", q, kv)\n",
        "        return qkv\n",
        "\n",
        "    def forward(self, pxo) -> torch.Tensor:\n",
        "        p, x, o = pxo          \n",
        "        L, embed_dim = x.size() ###(N,d) \n",
        "        dists = square_distance(p, p)\n",
        "        knn_idx = dists.argsort()[:, :self.k]\n",
        "\n",
        "        Q = self.query_projection(x).view(L, self.n_heads, -1)\n",
        "        K = index_points(self.key_projection(x), knn_idx).view(L, self.k,self.n_heads, -1)\n",
        "        V = index_points(self.value_projection(x), knn_idx).view(L, self.k,self.n_heads, -1)\n",
        "\n",
        "        Q = self.kernel_method(Q)\n",
        "        K = self.kernel_method(K)\n",
        "\n",
        "        KV = torch.einsum(\"skhd,skhm->hmd\", K, V)\n",
        "\n",
        "           # Compute the normalizer\n",
        "        Z = 1/(torch.einsum(\"lhd,lhd->lh\", Q, K.sum(dim=1))+self.eps)\n",
        "\n",
        "           # Finally compute and return the new values\n",
        "        V = torch.einsum(\"lhd,hmd,lh->lhm\", Q, KV, Z)\n",
        "\n",
        "\n",
        "        output = V.reshape(L, -1)\n",
        "        output = self.out_projection(output)\n",
        "        output = self.dropout(output)\n",
        "\n",
        "        return output\n"
      ],
      "metadata": {
        "id": "fA2_I-FQOWh5"
      },
      "execution_count": 4,
      "outputs": []
    },
    {
      "cell_type": "code",
      "source": [
        "o=[ 838, 2088, 2317, 3567, 4541, 5561, 6427, 7077]\n",
        "o=torch.IntTensor(o)\n",
        "x = torch.rand(7077, 128)\n",
        "p = torch.rand(7077, 3)"
      ],
      "metadata": {
        "id": "E2qkYYyzju2I"
      },
      "execution_count": 2,
      "outputs": []
    },
    {
      "cell_type": "code",
      "source": [
        "planes=128\n",
        "transformer2 = local_linear_Attention(planes,k=16)\n",
        "right_res = transformer2([p, x, o])\n",
        "print(right_res.shape)"
      ],
      "metadata": {
        "colab": {
          "base_uri": "https://localhost:8080/"
        },
        "id": "qOEbKsEpfuMW",
        "outputId": "2e0f25a0-0966-445d-ec89-411d7e2feb19"
      },
      "execution_count": 5,
      "outputs": [
        {
          "output_type": "stream",
          "name": "stdout",
          "text": [
            "torch.Size([7077, 128])\n"
          ]
        }
      ]
    }
  ]
}